{
  "cells": [
    {
      "cell_type": "markdown",
      "metadata": {
        "id": "jxBRDv_SREjX"
      },
      "source": [
        "\n",
        "# Instructions\n",
        "1. We recommend enabling GPUs for the notebook in Colab. In the Colab menu bar, navigate to **Edit→Notebook Settings**\n",
        "select GPU from the Hardware Accelerator drop-down.\n",
        "\n",
        "2. In the Colab menu bar, navigate to **Runtine→Run all**.\n",
        "\n",
        "3. Click the link after \"Running on public URL: \" and use the credential *user* and *sparpassword* to log in. \n"
      ]
    },
    {
      "cell_type": "code",
      "execution_count": null,
      "metadata": {
        "id": "jPiqq9QGRA3c"
      },
      "outputs": [],
      "source": [
        "# update pip and install the package\n",
        "!pip install -U pip\n",
        "!pip install -U spar-measure"
      ]
    },
    {
      "cell_type": "code",
      "execution_count": null,
      "metadata": {
        "id": "P7cF-3sROBPE"
      },
      "outputs": [],
      "source": [
        "from spar_measure import gui"
      ]
    },
    {
      "cell_type": "code",
      "source": [
        "# download default model in advance\n",
        "from transformers import AutoModel, AutoTokenizer\n",
        "tokenizer = AutoTokenizer.from_pretrained('sentence-transformers/all-MiniLM-L6-v2')\n",
        "model = AutoTokenizer.from_pretrained('sentence-transformers/all-MiniLM-L6-v2')\n",
        "del tokenizer, model"
      ],
      "metadata": {
        "id": "dP_et0n-qJWS"
      },
      "execution_count": 7,
      "outputs": []
    },
    {
      "cell_type": "code",
      "execution_count": null,
      "metadata": {
        "id": "tJwg3QSCOkX2"
      },
      "outputs": [],
      "source": [
        "# launch web interface, set username and password accordingly\n",
        "gui.run_gui(mode = 'public', username = 'user', password = 'sparpassword', debug=True)"
      ]
    }
  ],
  "metadata": {
    "accelerator": "GPU",
    "colab": {
      "provenance": []
    },
    "gpuClass": "standard",
    "kernelspec": {
      "display_name": "Python 3",
      "name": "python3"
    },
    "language_info": {
      "name": "python"
    }
  },
  "nbformat": 4,
  "nbformat_minor": 0
}